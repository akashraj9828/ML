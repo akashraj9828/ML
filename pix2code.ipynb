{
  "nbformat": 4,
  "nbformat_minor": 0,
  "metadata": {
    "colab": {
      "name": "Untitled2.ipynb",
      "version": "0.3.2",
      "provenance": [],
      "collapsed_sections": [],
      "include_colab_link": true
    },
    "kernelspec": {
      "name": "python3",
      "display_name": "Python 3"
    }
  },
  "cells": [
    {
      "cell_type": "markdown",
      "metadata": {
        "id": "view-in-github",
        "colab_type": "text"
      },
      "source": [
        "<a href=\"https://colab.research.google.com/github/akashraj9828/ML/blob/master/pix2code.ipynb\" target=\"_parent\"><img src=\"https://colab.research.google.com/assets/colab-badge.svg\" alt=\"Open In Colab\"/></a>"
      ]
    },
    {
      "metadata": {
        "id": "J-W1eSQo3tZ1",
        "colab_type": "code",
        "colab": {
          "base_uri": "https://localhost:8080/",
          "height": 119
        },
        "outputId": "c3448e8c-8d0e-44be-fc53-15c6510a7468"
      },
      "cell_type": "code",
      "source": [
        "!git clone https://github.com/tonybeltramelli/pix2code"
      ],
      "execution_count": 3,
      "outputs": [
        {
          "output_type": "stream",
          "text": [
            "Cloning into 'pix2code'...\n",
            "remote: Enumerating objects: 152, done.\u001b[K\n",
            "remote: Total 152 (delta 0), reused 0 (delta 0), pack-reused 152\u001b[K\n",
            "Receiving objects: 100% (152/152), 758.45 MiB | 44.09 MiB/s, done.\n",
            "Resolving deltas: 100% (67/67), done.\n",
            "Checking out files: 100% (43/43), done.\n"
          ],
          "name": "stdout"
        }
      ]
    },
    {
      "metadata": {
        "id": "57kaC0tw4AXt",
        "colab_type": "code",
        "colab": {
          "base_uri": "https://localhost:8080/",
          "height": 34
        },
        "outputId": "d83dd1e9-3782-41db-993f-8141cf2e4a1c"
      },
      "cell_type": "code",
      "source": [
        "!ls\n"
      ],
      "execution_count": 4,
      "outputs": [
        {
          "output_type": "stream",
          "text": [
            "pix2code  sample_data\n"
          ],
          "name": "stdout"
        }
      ]
    },
    {
      "metadata": {
        "id": "fBsfQrGk4DXv",
        "colab_type": "code",
        "colab": {
          "base_uri": "https://localhost:8080/",
          "height": 34
        },
        "outputId": "9ed56c15-1d92-45b2-dc93-ea1bc55796e7"
      },
      "cell_type": "code",
      "source": [
        "!cd pix2code && ls"
      ],
      "execution_count": 6,
      "outputs": [
        {
          "output_type": "stream",
          "text": [
            "compiler  datasets  LICENSE  model  README.md  requirements.txt\n"
          ],
          "name": "stdout"
        }
      ]
    },
    {
      "metadata": {
        "id": "Za7C4Drm4OlK",
        "colab_type": "code",
        "colab": {}
      },
      "cell_type": "code",
      "source": [
        "!cd pix2code && pip install -r requirements.txt\n"
      ],
      "execution_count": 0,
      "outputs": []
    },
    {
      "metadata": {
        "id": "EnBgo7eL4q2f",
        "colab_type": "code",
        "colab": {
          "base_uri": "https://localhost:8080/",
          "height": 34
        },
        "outputId": "983c8dd4-a079-4086-90f2-d5ec445e542c"
      },
      "cell_type": "code",
      "source": [
        "!mv  ../pix2code/* ./\n",
        "!ls"
      ],
      "execution_count": 25,
      "outputs": [
        {
          "output_type": "stream",
          "text": [
            "compiler  datasets  LICENSE  model  README.md  requirements.txt  sample_data\n"
          ],
          "name": "stdout"
        }
      ]
    },
    {
      "metadata": {
        "id": "WPhItROI8Vly",
        "colab_type": "code",
        "colab": {}
      },
      "cell_type": "code",
      "source": [
        "!cd datasets  && echo off && zip -F pix2code_datasets.zip --out datasets.zip\n",
        "!cd datasets && echo off && unzip datasets.zip"
      ],
      "execution_count": 0,
      "outputs": []
    },
    {
      "metadata": {
        "id": "IyeM1S94-BVJ",
        "colab_type": "code",
        "colab": {
          "base_uri": "https://localhost:8080/",
          "height": 170
        },
        "outputId": "7d3501c0-6cc7-403f-a990-836b9ab2baa9"
      },
      "cell_type": "code",
      "source": [
        "!cd model && ./build_datasets.py ../datasets/ios/all_data\n",
        "!cd model && ./build_datasets.py ../datasets/android/all_data\n",
        "!cd model && ./build_datasets.py ../datasets/web/all_data"
      ],
      "execution_count": 28,
      "outputs": [
        {
          "output_type": "stream",
          "text": [
            "Splitting datasets, training samples: 1500.0, evaluation samples: 250.0\n",
            "Training dataset: ../datasets/ios/training_set\n",
            "Evaluation dataset: ../datasets/ios/eval_set\n",
            "Splitting datasets, training samples: 1500.0, evaluation samples: 250.0\n",
            "Training dataset: ../datasets/android/training_set\n",
            "Evaluation dataset: ../datasets/android/eval_set\n",
            "Splitting datasets, training samples: 1500.0, evaluation samples: 250.0\n",
            "Training dataset: ../datasets/web/training_set\n",
            "Evaluation dataset: ../datasets/web/eval_set\n"
          ],
          "name": "stdout"
        }
      ]
    },
    {
      "metadata": {
        "id": "sbFcxJ56-bEY",
        "colab_type": "code",
        "colab": {
          "base_uri": "https://localhost:8080/",
          "height": 131
        },
        "outputId": "e69fe074-d0bd-4917-c9cd-62486161e36e"
      },
      "cell_type": "code",
      "source": [
        "\n",
        "!cd model && ./convert_imgs_to_arrays.py ../datasets/ios/training_set ../datasets/ios/training_features\n",
        "!cd model && ./convert_imgs_to_arrays.py ../datasets/android/training_set ../datasets/android/training_features\n",
        "!cd model && ./convert_imgs_to_arrays.py ../datasets/web/training_set ../datasets/web/training_features"
      ],
      "execution_count": 0,
      "outputs": [
        {
          "output_type": "stream",
          "text": [
            "Converting images to numpy arrays...\n",
            "Numpy arrays saved in ../datasets/ios/training_features\n",
            "Converting images to numpy arrays...\n",
            "Numpy arrays saved in ../datasets/android/training_features\n",
            "Converting images to numpy arrays...\n"
          ],
          "name": "stdout"
        }
      ]
    }
  ]
}