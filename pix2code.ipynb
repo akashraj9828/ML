{
  "nbformat": 4,
  "nbformat_minor": 0,
  "metadata": {
    "colab": {
      "name": "Untitled2.ipynb",
      "version": "0.3.2",
      "provenance": [],
      "collapsed_sections": [],
      "include_colab_link": true
    },
    "kernelspec": {
      "name": "python3",
      "display_name": "Python 3"
    }
  },
  "cells": [
    {
      "cell_type": "markdown",
      "metadata": {
        "id": "view-in-github",
        "colab_type": "text"
      },
      "source": [
        "<a href=\"https://colab.research.google.com/github/akashraj9828/ML/blob/master/pix2code.ipynb\" target=\"_parent\"><img src=\"https://colab.research.google.com/assets/colab-badge.svg\" alt=\"Open In Colab\"/></a>"
      ]
    },
    {
      "metadata": {
        "id": "J-W1eSQo3tZ1",
        "colab_type": "code",
        "colab": {
          "base_uri": "https://localhost:8080/",
          "height": 119
        },
        "outputId": "e4a2cd16-d880-47fa-c436-0f5fafc20a66"
      },
      "cell_type": "code",
      "source": [
        "!git clone https://github.com/tonybeltramelli/pix2code"
      ],
      "execution_count": 1,
      "outputs": [
        {
          "output_type": "stream",
          "text": [
            "Cloning into 'pix2code'...\n",
            "remote: Enumerating objects: 152, done.\u001b[K\n",
            "remote: Total 152 (delta 0), reused 0 (delta 0), pack-reused 152\u001b[K\n",
            "Receiving objects: 100% (152/152), 758.45 MiB | 45.20 MiB/s, done.\n",
            "Resolving deltas: 100% (67/67), done.\n",
            "Checking out files: 100% (43/43), done.\n"
          ],
          "name": "stdout"
        }
      ]
    },
    {
      "metadata": {
        "id": "KXrqMJXjADlj",
        "colab_type": "code",
        "colab": {}
      },
      "cell_type": "code",
      "source": [
        "!pip install numpy --upgrade\n",
        "!pip install pillow --upgrade\n",
        "!pip install wrapt --upgrade\n",
        "!pip install tensorflow --upgrade\n",
        "!pip install pandas --upgrade\n",
        "!pip install joblib --upgrade\n",
        "\n",
        "!pip install opencv-python --upgrade\n",
        "!pip install imgaug --upgrade\n",
        "\n",
        "\n",
        "\n"
      ],
      "execution_count": 0,
      "outputs": []
    },
    {
      "metadata": {
        "id": "Za7C4Drm4OlK",
        "colab_type": "code",
        "colab": {}
      },
      "cell_type": "code",
      "source": [
        "!cd pix2code && pip install -r requirements.txt\n"
      ],
      "execution_count": 0,
      "outputs": []
    },
    {
      "metadata": {
        "id": "57kaC0tw4AXt",
        "colab_type": "code",
        "colab": {}
      },
      "cell_type": "code",
      "source": [
        "!mv ./pix2code/* ./\n",
        "!ls\n"
      ],
      "execution_count": 0,
      "outputs": []
    },
    {
      "metadata": {
        "id": "WPhItROI8Vly",
        "colab_type": "code",
        "colab": {
          "base_uri": "https://localhost:8080/",
          "height": 51
        },
        "outputId": "020f33bb-656f-43b9-96d9-7450443e513c"
      },
      "cell_type": "code",
      "source": [
        "!cd datasets  && echo off && zip -q -F pix2code_datasets.zip --out datasets.zip\n",
        "!cd datasets && echo off && unzip -q datasets.zip"
      ],
      "execution_count": 6,
      "outputs": [
        {
          "output_type": "stream",
          "text": [
            "off\n",
            "off\n"
          ],
          "name": "stdout"
        }
      ]
    },
    {
      "metadata": {
        "id": "IyeM1S94-BVJ",
        "colab_type": "code",
        "colab": {
          "base_uri": "https://localhost:8080/",
          "height": 170
        },
        "outputId": "bb4f9825-7860-43b8-8cd2-47e3282f2f00"
      },
      "cell_type": "code",
      "source": [
        "!cd model && ./build_datasets.py ../datasets/ios/all_data\n",
        "!cd model && ./build_datasets.py ../datasets/android/all_data\n",
        "!cd model && ./build_datasets.py ../datasets/web/all_data"
      ],
      "execution_count": 7,
      "outputs": [
        {
          "output_type": "stream",
          "text": [
            "Splitting datasets, training samples: 1500.0, evaluation samples: 250.0\n",
            "Training dataset: ../datasets/ios/training_set\n",
            "Evaluation dataset: ../datasets/ios/eval_set\n",
            "Splitting datasets, training samples: 1500.0, evaluation samples: 250.0\n",
            "Training dataset: ../datasets/android/training_set\n",
            "Evaluation dataset: ../datasets/android/eval_set\n",
            "Splitting datasets, training samples: 1500.0, evaluation samples: 250.0\n",
            "Training dataset: ../datasets/web/training_set\n",
            "Evaluation dataset: ../datasets/web/eval_set\n"
          ],
          "name": "stdout"
        }
      ]
    },
    {
      "metadata": {
        "id": "sbFcxJ56-bEY",
        "colab_type": "code",
        "colab": {
          "base_uri": "https://localhost:8080/",
          "height": 119
        },
        "outputId": "cecfcf20-f0c1-4891-dd15-193439ebd163"
      },
      "cell_type": "code",
      "source": [
        "\n",
        "!cd model && ./convert_imgs_to_arrays.py ../datasets/ios/training_set ../datasets/ios/training_features\n",
        "!cd model && ./convert_imgs_to_arrays.py ../datasets/android/training_set ../datasets/android/training_features\n",
        "!cd model && ./convert_imgs_to_arrays.py ../datasets/web/training_set ../datasets/web/training_features"
      ],
      "execution_count": 8,
      "outputs": [
        {
          "output_type": "stream",
          "text": [
            "Converting images to numpy arrays...\n",
            "Numpy arrays saved in ../datasets/ios/training_features\n",
            "Converting images to numpy arrays...\n",
            "Numpy arrays saved in ../datasets/android/training_features\n",
            "Converting images to numpy arrays...\n",
            "Numpy arrays saved in ../datasets/web/training_features\n"
          ],
          "name": "stdout"
        }
      ]
    },
    {
      "metadata": {
        "id": "KDnbIHii_kXR",
        "colab_type": "code",
        "colab": {
          "base_uri": "https://localhost:8080/",
          "height": 542
        },
        "outputId": "16f91a39-1c71-4b10-8bd9-4a51466fdc54"
      },
      "cell_type": "code",
      "source": [
        "!mkdir bin\n",
        "!cd model && ./train.py ../datasets/web/training_set ../bin 1\n",
        "# !cd model && ./train.py ../datasets/web/training_features ../bin\n"
      ],
      "execution_count": 0,
      "outputs": [
        {
          "output_type": "stream",
          "text": [
            "mkdir: cannot create directory ‘bin’: File exists\n",
            "/usr/lib/python3.6/importlib/_bootstrap.py:219: RuntimeWarning: compiletime version 3.5 of module 'tensorflow.python.framework.fast_tensor_util' does not match runtime version 3.6\n",
            "  return f(*args, **kwds)\n",
            "RuntimeError: module compiled against API version 0xc but this version of numpy is 0xb\n",
            "RuntimeError: module compiled against API version 0xc but this version of numpy is 0xb\n",
            "RuntimeError: module compiled against API version 0xc but this version of numpy is 0xb\n",
            "RuntimeError: module compiled against API version 0xc but this version of numpy is 0xb\n",
            "2019-02-20 09:03:00.626169: I tensorflow/core/platform/cpu_feature_guard.cc:137] Your CPU supports instructions that this TensorFlow binary was not compiled to use: SSE4.1 SSE4.2 AVX AVX2 FMA\n",
            "Device mapping: no known devices.\n",
            "2019-02-20 09:03:00.626752: I tensorflow/core/common_runtime/direct_session.cc:299] Device mapping:\n",
            "\n",
            "Using TensorFlow backend.\n",
            "Loading data...\n",
            "Generating sparse vectors...\n",
            "Dataset size: 144134\n",
            "Vocabulary size: 19\n",
            "Input shape: (256, 256, 3)\n",
            "Output size: 19\n",
            "Parsing data...\n",
            "Epoch 1/10\n",
            "tcmalloc: large alloc 4682063872 bytes == 0x15ddda000 @  0x7fcb1c1321e7 0x7fcb101b2d4f 0x7fcb11982a09 0x7fcb1198f41d 0x7fcb119bb1b9 0x7fcb119bb679 0x7fcb119bcbe0 0x7fcb0ecd6afc 0x7fcb0eca7a85 0x7fcb0ec96e10 0x7fcb0e94fe22 0x7fcb0e94eed2 0x7fcb1aa148f0 0x7fcb1baf66db 0x7fcb1be2f88f\n",
            "tcmalloc: large alloc 2438823936 bytes == 0x1a36ba000 @  0x7fcb1c1321e7 0x7fcb101b2d4f 0x7fcb11982a09 0x7fcb1198f41d 0x7fcb119bb1b9 0x7fcb119bb679 0x7fcb119bcbe0 0x7fcb0ecd6afc 0x7fcb0eca7a85 0x7fcb0ec96e10 0x7fcb0e94fe22 0x7fcb0e94eed2 0x7fcb1aa148f0 0x7fcb1baf66db 0x7fcb1be2f88f\n",
            "   1/2252 [..............................] - ETA: 56:41:39 - loss: 2.9550tcmalloc: large alloc 4682063872 bytes == 0x1cf422000 @  0x7fcb1c1321e7 0x7fcb101b2d4f 0x7fcb11982a09 0x7fcb1198f41d 0x7fcb119bb1b9 0x7fcb119bb679 0x7fcb119bcbe0 0x7fcb0ecd6afc 0x7fcb0eca7a85 0x7fcb0ec96e10 0x7fcb0e94fe22 0x7fcb0e94eed2 0x7fcb1aa148f0 0x7fcb1baf66db 0x7fcb1be2f88f\n",
            "tcmalloc: large alloc 2438823936 bytes == 0x1cf422000 @  0x7fcb1c1321e7 0x7fcb101b2d4f 0x7fcb11982a09 0x7fcb1198f41d 0x7fcb119bb1b9 0x7fcb119bb679 0x7fcb119bcbe0 0x7fcb0ecd6afc 0x7fcb0eca7a85 0x7fcb0ec96e10 0x7fcb0e94fe22 0x7fcb0e94eed2 0x7fcb1aa148f0 0x7fcb1baf66db 0x7fcb1be2f88f\n",
            "   2/2252 [..............................] - ETA: 54:32:14 - loss: 2.7650tcmalloc: large alloc 4682063872 bytes == 0x1cfd22000 @  0x7fcb1c1321e7 0x7fcb101b2d4f 0x7fcb11982a09 0x7fcb1198f41d 0x7fcb119bb1b9 0x7fcb119bb679 0x7fcb119bcbe0 0x7fcb0ecd6afc 0x7fcb0eca7a85 0x7fcb0ec96e10 0x7fcb0e94fe22 0x7fcb0e94eed2 0x7fcb1aa148f0 0x7fcb1baf66db 0x7fcb1be2f88f\n",
            "tcmalloc: large alloc 2438823936 bytes == 0x1cfd22000 @  0x7fcb1c1321e7 0x7fcb101b2d4f 0x7fcb11982a09 0x7fcb1198f41d 0x7fcb119bb1b9 0x7fcb119bb679 0x7fcb119bcbe0 0x7fcb0ecd6afc 0x7fcb0eca7a85 0x7fcb0ec96e10 0x7fcb0e94fe22 0x7fcb0e94eed2 0x7fcb1aa148f0 0x7fcb1baf66db 0x7fcb1be2f88f\n",
            "   3/2252 [..............................] - ETA: 55:28:49 - loss: 2.6506tcmalloc: large alloc 4682063872 bytes == 0x1cfcf2000 @  0x7fcb1c1321e7 0x7fcb101b2d4f 0x7fcb11982a09 0x7fcb1198f41d 0x7fcb119bb1b9 0x7fcb119bb679 0x7fcb119bcbe0 0x7fcb0ecd6afc 0x7fcb0eca7a85 0x7fcb0ec96e10 0x7fcb0e94fe22 0x7fcb0e94eed2 0x7fcb1aa148f0 0x7fcb1baf66db 0x7fcb1be2f88f\n",
            "   4/2252 [..............................] - ETA: 55:34:45 - loss: 2.6099tcmalloc: large alloc 4682063872 bytes == 0x1d020a000 @  0x7fcb1c1321e7 0x7fcb101b2d4f 0x7fcb11982a09 0x7fcb1198f41d 0x7fcb119bb1b9 0x7fcb119bb679 0x7fcb119bcbe0 0x7fcb0ecd6afc 0x7fcb0eca7a85 0x7fcb0ec96e10 0x7fcb0e94fe22 0x7fcb0e94eed2 0x7fcb1aa148f0 0x7fcb1baf66db 0x7fcb1be2f88f\n"
          ],
          "name": "stdout"
        }
      ]
    },
    {
      "metadata": {
        "id": "QnXOGD0uCM_k",
        "colab_type": "code",
        "colab": {}
      },
      "cell_type": "code",
      "source": [
        ""
      ],
      "execution_count": 0,
      "outputs": []
    }
  ]
}