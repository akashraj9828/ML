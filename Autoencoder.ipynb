{
  "nbformat": 4,
  "nbformat_minor": 0,
  "metadata": {
    "colab": {
      "name": "Encoder decoder.ipynb",
      "version": "0.3.2",
      "provenance": [],
      "collapsed_sections": []
    },
    "kernelspec": {
      "name": "python3",
      "display_name": "Python 3"
    },
    "accelerator": "GPU"
  },
  "cells": [
    {
      "metadata": {
        "id": "-_CTMyPG0tgP",
        "colab_type": "code",
        "colab": {}
      },
      "cell_type": "code",
      "source": [
        "from keras.datasets import mnist\n",
        "import numpy as np\n",
        "\n",
        "(x_tr, _), (x_te, _) = mnist.load_data()\n"
      ],
      "execution_count": 0,
      "outputs": []
    },
    {
      "metadata": {
        "id": "CoWS2IF305uM",
        "colab_type": "code",
        "colab": {
          "base_uri": "https://localhost:8080/",
          "height": 53
        },
        "outputId": "2adbe3fc-33ca-4e59-d578-0d6e37787edf"
      },
      "cell_type": "code",
      "source": [
        "x_train = x_tr.astype('float32') / 255.\n",
        "x_test = x_te.astype('float32') / 255.\n",
        "# flatten data\n",
        "x_train = x_train.reshape((len(x_train), np.prod(x_train.shape[1:])))\n",
        "x_test = x_test.reshape((len(x_test), np.prod(x_test.shape[1:])))\n",
        "print (x_train.shape)\n",
        "print (x_test.shape)"
      ],
      "execution_count": 27,
      "outputs": [
        {
          "output_type": "stream",
          "text": [
            "(60000, 784)\n",
            "(10000, 784)\n"
          ],
          "name": "stdout"
        }
      ]
    },
    {
      "metadata": {
        "id": "sFkOoO0f1TD8",
        "colab_type": "code",
        "outputId": "a7e6badf-e7c9-4745-c9c5-f12c87fed9bf",
        "colab": {
          "base_uri": "https://localhost:8080/",
          "height": 78
        }
      },
      "cell_type": "code",
      "source": [
        "import matplotlib.pyplot as plt\n",
        "\n",
        "n = 20\n",
        "plt.figure(figsize=(20, 2))\n",
        "for i in range(n):\n",
        "    ax = plt.subplot(1, n, i+1)\n",
        "    plt.imshow(x_test[i].reshape(28, 28))\n",
        "    plt.gray()\n",
        "    ax.get_xaxis().set_visible(False)\n",
        "    ax.get_yaxis().set_visible(False)\n",
        "plt.show()\n"
      ],
      "execution_count": 28,
      "outputs": [
        {
          "output_type": "display_data",
          "data": {
            "image/png": "[encoded data removed]",
            "text/plain": [
              "<Figure size 1440x144 with 20 Axes>"
            ]
          },
          "metadata": {
            "tags": []
          }
        }
      ]
    },
    {
      "metadata": {
        "id": "KYoO-D5b1hDe",
        "colab_type": "code",
        "outputId": "94d66bbd-e102-49a3-f8bb-dc807f978960",
        "colab": {
          "base_uri": "https://localhost:8080/",
          "height": 701
        }
      },
      "cell_type": "code",
      "source": [
        "from keras.layers import Input, Dense\n",
        "from keras.models import Model\n",
        "\n",
        "encoding_dim = 32 \n",
        "\n",
        "input_img = Input(shape=(784,))\n",
        "\n",
        "encoded = Dense(encoding_dim, activation='relu')(input_img)\n",
        "\n",
        "decoded = Dense(784, activation='sigmoid')(encoded)\n",
        "\n",
        "autoencoder = Model(input_img, decoded)\n",
        "\n",
        "encoder = Model(input_img, encoded)\n",
        "\n",
        "\n",
        "encoded_input = Input(shape=(encoding_dim,))\n",
        "decoder_layer = autoencoder.layers[2]\n",
        "decoder = Model(encoded_input, decoder_layer(encoded_input))\n",
        "\n",
        "autoencoder.compile(optimizer='adadelta', loss='binary_crossentropy')\n",
        "\n",
        "print('*'*20,\"AUTO ENCODER STRUCTURE\",'*'*20)\n",
        "autoencoder.summary()\n",
        "\n",
        "print('*'*20,\"ENCODER STRUCTURE\",'*'*20)\n",
        "encoder.summary()\n",
        "\n",
        "print('*'*20,\"DECODER STRUCTURE\",'*'*20)\n",
        "decoder.summary()"
      ],
      "execution_count": 132,
      "outputs": [
        {
          "output_type": "stream",
          "text": [
            "******************** AUTO ENCODER STRUCTURE ********************\n",
            "_________________________________________________________________\n",
            "Layer (type)                 Output Shape              Param #   \n",
            "=================================================================\n",
            "input_71 (InputLayer)        (None, 784)               0         \n",
            "_________________________________________________________________\n",
            "dense_197 (Dense)            (None, 32)                25120     \n",
            "_________________________________________________________________\n",
            "dense_198 (Dense)            (None, 784)               25872     \n",
            "=================================================================\n",
            "Total params: 50,992\n",
            "Trainable params: 50,992\n",
            "Non-trainable params: 0\n",
            "_________________________________________________________________\n",
            "******************** ENCODER STRUCTURE ********************\n",
            "_________________________________________________________________\n",
            "Layer (type)                 Output Shape              Param #   \n",
            "=================================================================\n",
            "input_71 (InputLayer)        (None, 784)               0         \n",
            "_________________________________________________________________\n",
            "dense_197 (Dense)            (None, 32)                25120     \n",
            "=================================================================\n",
            "Total params: 25,120\n",
            "Trainable params: 25,120\n",
            "Non-trainable params: 0\n",
            "_________________________________________________________________\n",
            "******************** DECODER STRUCTURE ********************\n",
            "_________________________________________________________________\n",
            "Layer (type)                 Output Shape              Param #   \n",
            "=================================================================\n",
            "input_72 (InputLayer)        (None, 32)                0         \n",
            "_________________________________________________________________\n",
            "dense_198 (Dense)            (None, 784)               25872     \n",
            "=================================================================\n",
            "Total params: 25,872\n",
            "Trainable params: 25,872\n",
            "Non-trainable params: 0\n",
            "_________________________________________________________________\n"
          ],
          "name": "stdout"
        }
      ]
    },
    {
      "metadata": {
        "id": "enq8TRr02lzw",
        "colab_type": "code",
        "outputId": "5e7d9be4-dc12-4477-8b96-180b379aba22",
        "colab": {
          "base_uri": "https://localhost:8080/",
          "height": 3653
        }
      },
      "cell_type": "code",
      "source": [
        "autoencoder.fit(x_train,x_train,epochs=100,\n",
        "                batch_size=128,\n",
        "#                 shuffle=True,\n",
        "                validation_data=(x_test,x_test)\n",
        "           )"
      ],
      "execution_count": 122,
      "outputs": [
        {
          "output_type": "stream",
          "text": [
            "Train on 60000 samples, validate on 10000 samples\n",
            "Epoch 1/100\n",
            "60000/60000 [==============================] - 4s 60us/step - loss: 0.3143 - val_loss: 0.2546\n",
            "Epoch 2/100\n",
            "60000/60000 [==============================] - 3s 42us/step - loss: 0.2335 - val_loss: 0.2121\n",
            "Epoch 3/100\n",
            "60000/60000 [==============================] - 3s 42us/step - loss: 0.2007 - val_loss: 0.1890\n",
            "Epoch 4/100\n",
            "60000/60000 [==============================] - 3s 43us/step - loss: 0.1833 - val_loss: 0.1754\n",
            "Epoch 5/100\n",
            "60000/60000 [==============================] - 3s 43us/step - loss: 0.1713 - val_loss: 0.1648\n",
            "Epoch 6/100\n",
            "60000/60000 [==============================] - 3s 43us/step - loss: 0.1616 - val_loss: 0.1559\n",
            "Epoch 7/100\n",
            "60000/60000 [==============================] - 3s 43us/step - loss: 0.1536 - val_loss: 0.1485\n",
            "Epoch 8/100\n",
            "60000/60000 [==============================] - 3s 43us/step - loss: 0.1469 - val_loss: 0.1425\n",
            "Epoch 9/100\n",
            "60000/60000 [==============================] - 3s 43us/step - loss: 0.1412 - val_loss: 0.1371\n",
            "Epoch 10/100\n",
            "60000/60000 [==============================] - 3s 43us/step - loss: 0.1362 - val_loss: 0.1324\n",
            "Epoch 11/100\n",
            "60000/60000 [==============================] - 3s 42us/step - loss: 0.1317 - val_loss: 0.1280\n",
            "Epoch 12/100\n",
            "60000/60000 [==============================] - 3s 43us/step - loss: 0.1276 - val_loss: 0.1241\n",
            "Epoch 13/100\n",
            "60000/60000 [==============================] - 3s 43us/step - loss: 0.1238 - val_loss: 0.1205\n",
            "Epoch 14/100\n",
            "60000/60000 [==============================] - 3s 43us/step - loss: 0.1205 - val_loss: 0.1173\n",
            "Epoch 15/100\n",
            "60000/60000 [==============================] - 3s 42us/step - loss: 0.1175 - val_loss: 0.1145\n",
            "Epoch 16/100\n",
            "60000/60000 [==============================] - 3s 42us/step - loss: 0.1148 - val_loss: 0.1121\n",
            "Epoch 17/100\n",
            "60000/60000 [==============================] - 3s 43us/step - loss: 0.1126 - val_loss: 0.1100\n",
            "Epoch 18/100\n",
            "60000/60000 [==============================] - 3s 43us/step - loss: 0.1106 - val_loss: 0.1081\n",
            "Epoch 19/100\n",
            "60000/60000 [==============================] - 3s 43us/step - loss: 0.1089 - val_loss: 0.1066\n",
            "Epoch 20/100\n",
            "60000/60000 [==============================] - 3s 42us/step - loss: 0.1075 - val_loss: 0.1052\n",
            "Epoch 21/100\n",
            "60000/60000 [==============================] - 3s 42us/step - loss: 0.1062 - val_loss: 0.1040\n",
            "Epoch 22/100\n",
            "60000/60000 [==============================] - 3s 43us/step - loss: 0.1051 - val_loss: 0.1030\n",
            "Epoch 23/100\n",
            "60000/60000 [==============================] - 3s 43us/step - loss: 0.1041 - val_loss: 0.1021\n",
            "Epoch 24/100\n",
            "60000/60000 [==============================] - 3s 43us/step - loss: 0.1033 - val_loss: 0.1013\n",
            "Epoch 25/100\n",
            "60000/60000 [==============================] - 3s 43us/step - loss: 0.1025 - val_loss: 0.1006\n",
            "Epoch 26/100\n",
            "60000/60000 [==============================] - 3s 43us/step - loss: 0.1018 - val_loss: 0.1000\n",
            "Epoch 27/100\n",
            "60000/60000 [==============================] - 3s 43us/step - loss: 0.1012 - val_loss: 0.0994\n",
            "Epoch 28/100\n",
            "60000/60000 [==============================] - 3s 42us/step - loss: 0.1007 - val_loss: 0.0989\n",
            "Epoch 29/100\n",
            "60000/60000 [==============================] - 3s 43us/step - loss: 0.1002 - val_loss: 0.0984\n",
            "Epoch 30/100\n",
            "60000/60000 [==============================] - 3s 42us/step - loss: 0.0997 - val_loss: 0.0980\n",
            "Epoch 31/100\n",
            "60000/60000 [==============================] - 3s 43us/step - loss: 0.0993 - val_loss: 0.0975\n",
            "Epoch 32/100\n",
            "60000/60000 [==============================] - 3s 43us/step - loss: 0.0989 - val_loss: 0.0972\n",
            "Epoch 33/100\n",
            "60000/60000 [==============================] - 3s 43us/step - loss: 0.0985 - val_loss: 0.0969\n",
            "Epoch 34/100\n",
            "60000/60000 [==============================] - 3s 44us/step - loss: 0.0982 - val_loss: 0.0966\n",
            "Epoch 35/100\n",
            "60000/60000 [==============================] - 3s 44us/step - loss: 0.0979 - val_loss: 0.0963\n",
            "Epoch 36/100\n",
            "60000/60000 [==============================] - 3s 43us/step - loss: 0.0977 - val_loss: 0.0961\n",
            "Epoch 37/100\n",
            "60000/60000 [==============================] - 3s 43us/step - loss: 0.0974 - val_loss: 0.0958\n",
            "Epoch 38/100\n",
            "60000/60000 [==============================] - 3s 42us/step - loss: 0.0972 - val_loss: 0.0956\n",
            "Epoch 39/100\n",
            "60000/60000 [==============================] - 3s 43us/step - loss: 0.0970 - val_loss: 0.0955\n",
            "Epoch 40/100\n",
            "60000/60000 [==============================] - 3s 42us/step - loss: 0.0969 - val_loss: 0.0953\n",
            "Epoch 41/100\n",
            "60000/60000 [==============================] - 3s 43us/step - loss: 0.0967 - val_loss: 0.0952\n",
            "Epoch 42/100\n",
            "60000/60000 [==============================] - 3s 42us/step - loss: 0.0965 - val_loss: 0.0950\n",
            "Epoch 43/100\n",
            "60000/60000 [==============================] - 3s 42us/step - loss: 0.0964 - val_loss: 0.0949\n",
            "Epoch 44/100\n",
            "60000/60000 [==============================] - 3s 43us/step - loss: 0.0963 - val_loss: 0.0948\n",
            "Epoch 45/100\n",
            "60000/60000 [==============================] - 3s 42us/step - loss: 0.0962 - val_loss: 0.0947\n",
            "Epoch 46/100\n",
            "60000/60000 [==============================] - 3s 43us/step - loss: 0.0961 - val_loss: 0.0946\n",
            "Epoch 47/100\n",
            "60000/60000 [==============================] - 3s 42us/step - loss: 0.0960 - val_loss: 0.0945\n",
            "Epoch 48/100\n",
            "60000/60000 [==============================] - 3s 43us/step - loss: 0.0959 - val_loss: 0.0944\n",
            "Epoch 49/100\n",
            "60000/60000 [==============================] - 3s 43us/step - loss: 0.0958 - val_loss: 0.0943\n",
            "Epoch 50/100\n",
            "60000/60000 [==============================] - 3s 43us/step - loss: 0.0957 - val_loss: 0.0942\n",
            "Epoch 51/100\n",
            "60000/60000 [==============================] - 3s 43us/step - loss: 0.0956 - val_loss: 0.0942\n",
            "Epoch 52/100\n",
            "60000/60000 [==============================] - 3s 43us/step - loss: 0.0955 - val_loss: 0.0941\n",
            "Epoch 53/100\n",
            "60000/60000 [==============================] - 3s 42us/step - loss: 0.0955 - val_loss: 0.0940\n",
            "Epoch 54/100\n",
            "60000/60000 [==============================] - 3s 43us/step - loss: 0.0954 - val_loss: 0.0940\n",
            "Epoch 55/100\n",
            "60000/60000 [==============================] - 3s 42us/step - loss: 0.0953 - val_loss: 0.0939\n",
            "Epoch 56/100\n",
            "60000/60000 [==============================] - 3s 42us/step - loss: 0.0953 - val_loss: 0.0939\n",
            "Epoch 57/100\n",
            "60000/60000 [==============================] - 3s 42us/step - loss: 0.0952 - val_loss: 0.0938\n",
            "Epoch 58/100\n",
            "60000/60000 [==============================] - 3s 43us/step - loss: 0.0952 - val_loss: 0.0937\n",
            "Epoch 59/100\n",
            "60000/60000 [==============================] - 3s 43us/step - loss: 0.0951 - val_loss: 0.0937\n",
            "Epoch 60/100\n",
            "60000/60000 [==============================] - 3s 43us/step - loss: 0.0951 - val_loss: 0.0936\n",
            "Epoch 61/100\n",
            "60000/60000 [==============================] - 3s 43us/step - loss: 0.0950 - val_loss: 0.0936\n",
            "Epoch 62/100\n",
            "60000/60000 [==============================] - 3s 43us/step - loss: 0.0950 - val_loss: 0.0936\n",
            "Epoch 63/100\n",
            "60000/60000 [==============================] - 3s 44us/step - loss: 0.0949 - val_loss: 0.0935\n",
            "Epoch 64/100\n",
            "60000/60000 [==============================] - 3s 44us/step - loss: 0.0949 - val_loss: 0.0935\n",
            "Epoch 65/100\n",
            "60000/60000 [==============================] - 3s 43us/step - loss: 0.0948 - val_loss: 0.0934\n",
            "Epoch 66/100\n",
            "60000/60000 [==============================] - 3s 43us/step - loss: 0.0948 - val_loss: 0.0934\n",
            "Epoch 67/100\n",
            "60000/60000 [==============================] - 3s 43us/step - loss: 0.0947 - val_loss: 0.0933\n",
            "Epoch 68/100\n",
            "60000/60000 [==============================] - 3s 43us/step - loss: 0.0947 - val_loss: 0.0933\n",
            "Epoch 69/100\n",
            "60000/60000 [==============================] - 3s 43us/step - loss: 0.0947 - val_loss: 0.0933\n",
            "Epoch 70/100\n",
            "60000/60000 [==============================] - 3s 42us/step - loss: 0.0946 - val_loss: 0.0932\n",
            "Epoch 71/100\n",
            "60000/60000 [==============================] - 3s 43us/step - loss: 0.0946 - val_loss: 0.0932\n",
            "Epoch 72/100\n",
            "60000/60000 [==============================] - 3s 43us/step - loss: 0.0946 - val_loss: 0.0932\n",
            "Epoch 73/100\n",
            "60000/60000 [==============================] - 3s 43us/step - loss: 0.0945 - val_loss: 0.0932\n",
            "Epoch 74/100\n",
            "60000/60000 [==============================] - 3s 43us/step - loss: 0.0945 - val_loss: 0.0931\n",
            "Epoch 75/100\n",
            "60000/60000 [==============================] - 3s 43us/step - loss: 0.0945 - val_loss: 0.0931\n",
            "Epoch 76/100\n",
            "60000/60000 [==============================] - 3s 43us/step - loss: 0.0944 - val_loss: 0.0931\n",
            "Epoch 77/100\n",
            "60000/60000 [==============================] - 3s 42us/step - loss: 0.0944 - val_loss: 0.0931\n",
            "Epoch 78/100\n",
            "60000/60000 [==============================] - 3s 42us/step - loss: 0.0944 - val_loss: 0.0930\n",
            "Epoch 79/100\n",
            "60000/60000 [==============================] - 3s 43us/step - loss: 0.0944 - val_loss: 0.0930\n",
            "Epoch 80/100\n",
            "60000/60000 [==============================] - 3s 43us/step - loss: 0.0943 - val_loss: 0.0930\n",
            "Epoch 81/100\n",
            "60000/60000 [==============================] - 3s 43us/step - loss: 0.0943 - val_loss: 0.0929\n",
            "Epoch 82/100\n",
            "60000/60000 [==============================] - 3s 43us/step - loss: 0.0943 - val_loss: 0.0929\n",
            "Epoch 83/100\n",
            "60000/60000 [==============================] - 3s 44us/step - loss: 0.0943 - val_loss: 0.0929\n",
            "Epoch 84/100\n",
            "60000/60000 [==============================] - 3s 43us/step - loss: 0.0942 - val_loss: 0.0929\n",
            "Epoch 85/100\n",
            "60000/60000 [==============================] - 3s 43us/step - loss: 0.0942 - val_loss: 0.0929\n",
            "Epoch 86/100\n",
            "60000/60000 [==============================] - 3s 42us/step - loss: 0.0942 - val_loss: 0.0928\n",
            "Epoch 87/100\n",
            "60000/60000 [==============================] - 3s 42us/step - loss: 0.0942 - val_loss: 0.0928\n",
            "Epoch 88/100\n",
            "60000/60000 [==============================] - 3s 42us/step - loss: 0.0941 - val_loss: 0.0928\n",
            "Epoch 89/100\n",
            "60000/60000 [==============================] - 3s 42us/step - loss: 0.0941 - val_loss: 0.0928\n",
            "Epoch 90/100\n",
            "60000/60000 [==============================] - 3s 43us/step - loss: 0.0941 - val_loss: 0.0928\n",
            "Epoch 91/100\n",
            "60000/60000 [==============================] - 3s 42us/step - loss: 0.0941 - val_loss: 0.0927\n",
            "Epoch 92/100\n",
            "60000/60000 [==============================] - 3s 42us/step - loss: 0.0941 - val_loss: 0.0927\n",
            "Epoch 93/100\n",
            "60000/60000 [==============================] - 3s 42us/step - loss: 0.0941 - val_loss: 0.0927\n",
            "Epoch 94/100\n",
            "60000/60000 [==============================] - 3s 43us/step - loss: 0.0940 - val_loss: 0.0927\n",
            "Epoch 95/100\n",
            "60000/60000 [==============================] - 3s 43us/step - loss: 0.0940 - val_loss: 0.0927\n",
            "Epoch 96/100\n",
            "60000/60000 [==============================] - 3s 42us/step - loss: 0.0940 - val_loss: 0.0927\n",
            "Epoch 97/100\n",
            "60000/60000 [==============================] - 3s 43us/step - loss: 0.0940 - val_loss: 0.0927\n",
            "Epoch 98/100\n",
            "60000/60000 [==============================] - 3s 43us/step - loss: 0.0940 - val_loss: 0.0926\n",
            "Epoch 99/100\n",
            "60000/60000 [==============================] - 3s 43us/step - loss: 0.0940 - val_loss: 0.0926\n",
            "Epoch 100/100\n",
            "60000/60000 [==============================] - 3s 42us/step - loss: 0.0939 - val_loss: 0.0926\n"
          ],
          "name": "stdout"
        },
        {
          "output_type": "execute_result",
          "data": {
            "text/plain": [
              "<keras.callbacks.History at 0x7fd1b57f6400>"
            ]
          },
          "metadata": {
            "tags": []
          },
          "execution_count": 122
        }
      ]
    },
    {
      "metadata": {
        "id": "flV3Hn_lIIcg",
        "colab_type": "code",
        "colab": {}
      },
      "cell_type": "code",
      "source": [
        "encoded_imgs = encoder.predict(x_test)\n",
        "decoded_imgs = decoder.predict(encoded_imgs)"
      ],
      "execution_count": 0,
      "outputs": []
    },
    {
      "metadata": {
        "id": "AHeIQLjFIR3x",
        "colab_type": "code",
        "colab": {
          "base_uri": "https://localhost:8080/",
          "height": 157
        },
        "outputId": "694f2906-5f20-443b-aeac-6c22435345ed"
      },
      "cell_type": "code",
      "source": [
        "from random import randint\n",
        "# print(encoded_imgs.shape)\n",
        "# plt.figure(figsize=(10, 10))\n",
        "n=10\n",
        "print(\"*\"*20,'ORIGNAL','*'*20)\n",
        "\n",
        "for i in range(1,n):\n",
        "  a1 = plt.subplot(1,n, i)\n",
        "#   r=randint(0,10000)\n",
        "  p=plt.imshow(x_test[i].reshape(28,28))\n",
        "  \n",
        "\n",
        "  a1.get_xaxis().set_visible(False)\n",
        "  a1.get_yaxis().set_visible(False)\n",
        "\n",
        "\n",
        "plt.show()\n",
        "\n",
        "print(\"*\"*20,'RECONSTRUCTION','*'*20)\n",
        "for i in range(1,n):\n",
        "  a1 = plt.subplot(1,n, i)\n",
        "#   r=randint(0,10000)\n",
        "  p=plt.imshow(decoded_imgs[i].reshape(28,28))\n",
        "  \n",
        "\n",
        "  a1.get_xaxis().set_visible(False)\n",
        "  a1.get_yaxis().set_visible(False)\n",
        "\n",
        "\n",
        "plt.show()"
      ],
      "execution_count": 131,
      "outputs": [
        {
          "output_type": "stream",
          "text": [
            "******************** ORIGNAL ********************\n"
          ],
          "name": "stdout"
        },
        {
          "output_type": "display_data",
          "data": {
            "image/png": "[encoded data removed]",
            "text/plain": [
              "<Figure size 576x396 with 9 Axes>"
            ]
          },
          "metadata": {
            "tags": []
          }
        },
        {
          "output_type": "stream",
          "text": [
            "******************** RECONSTRUCTION ********************\n"
          ],
          "name": "stdout"
        },
        {
          "output_type": "display_data",
          "data": {
            "image/png": "[encoded data removed]",
            "text/plain": [
              "<Figure size 576x396 with 9 Axes>"
            ]
          },
          "metadata": {
            "tags": []
          }
        }
      ]
    },
    {
      "metadata": {
        "id": "IfQVSlQE4rHh",
        "colab_type": "code",
        "colab": {}
      },
      "cell_type": "code",
      "source": [
        ""
      ],
      "execution_count": 0,
      "outputs": []
    },
    {
      "metadata": {
        "id": "KSJdNRcZ5RYN",
        "colab_type": "code",
        "colab": {}
      },
      "cell_type": "code",
      "source": [
        ""
      ],
      "execution_count": 0,
      "outputs": []
    }
  ]
}